{
 "cells": [
  {
   "cell_type": "code",
   "execution_count": 1,
   "metadata": {},
   "outputs": [
    {
     "name": "stdout",
     "output_type": "stream",
     "text": [
      "Note: you may need to restart the kernel to use updated packages.\n"
     ]
    },
    {
     "name": "stderr",
     "output_type": "stream",
     "text": [
      "ERROR: Could not find a version that satisfies the requirement solr (from versions: none)\n",
      "ERROR: No matching distribution found for solr\n",
      "\n",
      "[notice] A new release of pip is available: 24.1.2 -> 24.3.1\n",
      "[notice] To update, run: python.exe -m pip install --upgrade pip\n"
     ]
    }
   ],
   "source": [
    "pip install solr"
   ]
  },
  {
   "cell_type": "code",
   "execution_count": 2,
   "metadata": {},
   "outputs": [],
   "source": [
    "import requests,json"
   ]
  },
  {
   "cell_type": "code",
   "execution_count": 3,
   "metadata": {},
   "outputs": [],
   "source": [
    "core_name='job_search'"
   ]
  },
  {
   "cell_type": "code",
   "execution_count": 4,
   "metadata": {},
   "outputs": [],
   "source": [
    "file_path=r\"C:/Users\\ACER\\OneDrive\\Desktop\\solr\\solr_jobapp\\job.json\"\n"
   ]
  },
  {
   "cell_type": "code",
   "execution_count": 5,
   "metadata": {},
   "outputs": [],
   "source": [
    "with open(file_path,'r') as file:\n",
    "    json_data=json.load(file)\n",
    "    "
   ]
  },
  {
   "cell_type": "code",
   "execution_count": 6,
   "metadata": {},
   "outputs": [],
   "source": [
    "\n",
    "url = \"http://localhost:8983/solr/job_search/update/json/docs?commit=true\"\n"
   ]
  },
  {
   "cell_type": "code",
   "execution_count": 9,
   "metadata": {},
   "outputs": [
    {
     "name": "stdout",
     "output_type": "stream",
     "text": [
      "Data posted successfully!\n",
      "{'responseHeader': {'status': 0, 'QTime': 714}}\n"
     ]
    }
   ],
   "source": [
    "response=requests.post(url,json=json_data)\n",
    "if response.status_code == 200:\n",
    "    print(\"Data posted successfully!\")\n",
    "    print(response.json())\n",
    "else:\n",
    "    print(\"Error posting data:\")"
   ]
  },
  {
   "cell_type": "code",
   "execution_count": 11,
   "metadata": {},
   "outputs": [],
   "source": [
    "def search(url,core_name,user_query, job_type=None, location=None, sort_by=None, start=0, rows=10):\n",
    "   \n",
    "        params = {\n",
    "        'q': user_query,  # User-defined search query\n",
    "        'wt': 'json',\n",
    "        'rows': rows,\n",
    "        'start': start\n",
    "        }\n",
    "\n",
    "        filter=[]\n",
    "\n",
    "        if job_type:\n",
    "                filter.append(f'job_type:\"{job_type}\"')\n",
    "        if location:\n",
    "                filter.append(f'location:\"{location}\"')   \n",
    "        if filter:\n",
    "                params['fq']='AND'.join(filter)\n",
    "        if sort_by:\n",
    "                params['sort']=sort_by   \n",
    "\n",
    "        if __name__ == \"__main__\":\n",
    "                core_name = 'job_search'\n",
    "                solr_url = 'http://localhost:8983/solr/'\n",
    "                url = f\"{solr_url}{core_name}/select\"   \n",
    "                response=requests.get(url,params=params)\n",
    "\n",
    "                if response.status_code == 200:\n",
    "                   print(\" successfully processed!\")\n",
    "                   print(response.json())\n",
    "                else:\n",
    "                   print(\"Error in processing:\")\n",
    "\n",
    "                user_query = input(\"Enter your search query (e.g., Software Engineer): \")\n",
    "                job_type = input(\"Enter job type (e.g., Full-Time, Part-Time, Remote) or leave empty: \")\n",
    "                location = input(\"Enter job location or leave empty: \")\n",
    "                sort_by = input(\"Enter sort criteria (e.g., date_posted desc or leave empty): \")\n",
    "                results = search(solr_url, core_name, user_query, job_type, location, sort_by)\n",
    "\n",
    "# Display results\n",
    "                if results:\n",
    "                  print(\"Search Results:\")\n",
    "                for job in results:\n",
    "                  print(job)\n",
    "                else:\n",
    "                  print(\"No results found.\") \n",
    "                                 \n",
    "\n",
    "           \n",
    "\n"
   ]
  },
  {
   "cell_type": "code",
   "execution_count": 12,
   "metadata": {},
   "outputs": [
    {
     "name": "stdout",
     "output_type": "stream",
     "text": [
      "Requirement already satisfied: ipywidgets in c:\\users\\acer\\appdata\\local\\programs\\python\\python312\\lib\\site-packages (8.1.5)\n",
      "Requirement already satisfied: comm>=0.1.3 in c:\\users\\acer\\appdata\\roaming\\python\\python312\\site-packages (from ipywidgets) (0.2.2)\n",
      "Requirement already satisfied: ipython>=6.1.0 in c:\\users\\acer\\appdata\\roaming\\python\\python312\\site-packages (from ipywidgets) (8.24.0)\n",
      "Requirement already satisfied: traitlets>=4.3.1 in c:\\users\\acer\\appdata\\roaming\\python\\python312\\site-packages (from ipywidgets) (5.14.3)\n",
      "Requirement already satisfied: widgetsnbextension~=4.0.12 in c:\\users\\acer\\appdata\\local\\programs\\python\\python312\\lib\\site-packages (from ipywidgets) (4.0.13)\n",
      "Requirement already satisfied: jupyterlab-widgets~=3.0.12 in c:\\users\\acer\\appdata\\local\\programs\\python\\python312\\lib\\site-packages (from ipywidgets) (3.0.13)\n",
      "Requirement already satisfied: decorator in c:\\users\\acer\\appdata\\roaming\\python\\python312\\site-packages (from ipython>=6.1.0->ipywidgets) (5.1.1)\n",
      "Requirement already satisfied: jedi>=0.16 in c:\\users\\acer\\appdata\\roaming\\python\\python312\\site-packages (from ipython>=6.1.0->ipywidgets) (0.19.1)\n",
      "Requirement already satisfied: matplotlib-inline in c:\\users\\acer\\appdata\\roaming\\python\\python312\\site-packages (from ipython>=6.1.0->ipywidgets) (0.1.7)\n",
      "Requirement already satisfied: prompt-toolkit<3.1.0,>=3.0.41 in c:\\users\\acer\\appdata\\roaming\\python\\python312\\site-packages (from ipython>=6.1.0->ipywidgets) (3.0.43)\n",
      "Requirement already satisfied: pygments>=2.4.0 in c:\\users\\acer\\appdata\\roaming\\python\\python312\\site-packages (from ipython>=6.1.0->ipywidgets) (2.18.0)\n",
      "Requirement already satisfied: stack-data in c:\\users\\acer\\appdata\\roaming\\python\\python312\\site-packages (from ipython>=6.1.0->ipywidgets) (0.6.3)\n",
      "Requirement already satisfied: colorama in c:\\users\\acer\\appdata\\local\\programs\\python\\python312\\lib\\site-packages (from ipython>=6.1.0->ipywidgets) (0.4.6)\n",
      "Requirement already satisfied: parso<0.9.0,>=0.8.3 in c:\\users\\acer\\appdata\\roaming\\python\\python312\\site-packages (from jedi>=0.16->ipython>=6.1.0->ipywidgets) (0.8.4)\n",
      "Requirement already satisfied: wcwidth in c:\\users\\acer\\appdata\\roaming\\python\\python312\\site-packages (from prompt-toolkit<3.1.0,>=3.0.41->ipython>=6.1.0->ipywidgets) (0.2.13)\n",
      "Requirement already satisfied: executing>=1.2.0 in c:\\users\\acer\\appdata\\roaming\\python\\python312\\site-packages (from stack-data->ipython>=6.1.0->ipywidgets) (2.0.1)\n",
      "Requirement already satisfied: asttokens>=2.1.0 in c:\\users\\acer\\appdata\\roaming\\python\\python312\\site-packages (from stack-data->ipython>=6.1.0->ipywidgets) (2.4.1)\n",
      "Requirement already satisfied: pure-eval in c:\\users\\acer\\appdata\\roaming\\python\\python312\\site-packages (from stack-data->ipython>=6.1.0->ipywidgets) (0.2.2)\n",
      "Requirement already satisfied: six>=1.12.0 in c:\\users\\acer\\appdata\\local\\programs\\python\\python312\\lib\\site-packages (from asttokens>=2.1.0->stack-data->ipython>=6.1.0->ipywidgets) (1.16.0)\n",
      "Note: you may need to restart the kernel to use updated packages.\n"
     ]
    },
    {
     "name": "stderr",
     "output_type": "stream",
     "text": [
      "\n",
      "[notice] A new release of pip is available: 24.1.2 -> 24.3.1\n",
      "[notice] To update, run: python.exe -m pip install --upgrade pip\n"
     ]
    }
   ],
   "source": [
    "pip install ipywidgets\n"
   ]
  },
  {
   "cell_type": "code",
   "execution_count": 23,
   "metadata": {},
   "outputs": [
    {
     "name": "stdout",
     "output_type": "stream",
     "text": [
      "Successfully processed!\n",
      "Search Results:\n",
      "{'id': '1', 'title': ['Software Engineer'], 'description': ['Develop and maintain software applications and systems. Collaborate with cross-functional teams to define, design, and ship new features.'], 'type': ['full-time'], 'location': ['Bangalore, Karnataka'], 'date_posted': ['2024-10-01T00:00:00Z'], '_version_': 1814683829826224128}\n",
      "{'id': '2', 'title': ['Data Analyst'], 'description': ['Analyze large datasets to derive actionable insights. Create reports and visualizations to communicate findings effectively.'], 'type': ['part-time'], 'location': ['Mumbai, Maharashtra'], 'date_posted': ['2024-10-05T00:00:00Z'], '_version_': 1814683829953101824}\n",
      "{'id': '3', 'title': ['Web Developer'], 'description': ['Build and maintain responsive websites. Ensure compatibility with various browsers and devices.'], 'type': ['full-time'], 'location': ['Hyderabad, Telangana'], 'date_posted': ['2024-10-02T00:00:00Z'], '_version_': 1814683829957296128}\n",
      "{'id': '4', 'title': ['Project Manager'], 'description': ['Manage project timelines and deliverables. Work closely with stakeholders to ensure project success.'], 'type': ['remote'], 'location': ['Chennai, Tamil Nadu'], 'date_posted': ['2024-10-03T00:00:00Z'], '_version_': 1814683829960441856}\n",
      "{'id': '5', 'title': ['UX Designer'], 'description': ['Design user-friendly interfaces for web and mobile applications. Conduct user research to gather insights.'], 'type': ['full-time'], 'location': ['Pune, Maharashtra'], 'date_posted': ['2024-10-04T00:00:00Z'], '_version_': 1814683829962539008}\n",
      "{'id': '6', 'title': ['Systems Administrator'], 'description': ['Maintain and support IT infrastructure. Monitor system performance and troubleshoot issues.'], 'type': ['contract'], 'location': ['Noida, Uttar Pradesh'], 'date_posted': ['2024-10-06T00:00:00Z'], '_version_': 1814683829965684736}\n",
      "{'id': '7', 'title': ['Data Scientist'], 'description': ['Utilize statistical methods to analyze data and generate useful business insights. Create predictive models.'], 'type': ['full-time'], 'location': ['Gurgaon, Haryana'], 'date_posted': ['2024-10-07T00:00:00Z'], '_version_': 1814683829967781888}\n",
      "{'id': '8', 'title': ['Marketing Specialist'], 'description': ['Develop and implement marketing strategies. Monitor and analyze market trends to improve sales.'], 'type': ['full-time'], 'location': ['Ahmedabad, Gujarat'], 'date_posted': ['2024-10-08T00:00:00Z'], '_version_': 1814683829969879040}\n",
      "{'id': '9', 'title': ['Product Owner'], 'description': ['Oversee the development of products from conception to launch. Collaborate with stakeholders to define product vision.'], 'type': ['remote'], 'location': ['Jaipur, Rajasthan'], 'date_posted': ['2024-10-09T00:00:00Z'], '_version_': 1814683829973024768}\n",
      "{'id': '10', 'title': ['DevOps Engineer'], 'description': ['Implement and manage CI/CD pipelines. Work with development teams to ensure smooth deployments.'], 'type': ['full-time'], 'location': ['Kolkata, West Bengal'], 'date_posted': ['2024-10-10T00:00:00Z'], '_version_': 1814683829976170496}\n"
     ]
    }
   ],
   "source": [
    "import requests\n",
    "\n",
    "def search(url, core_name, user_query, start=0, rows=10):\n",
    "    # Set up query parameters\n",
    "    params = {\n",
    "        'q': user_query,  # User-defined search query\n",
    "        'wt': 'json',\n",
    "        'rows': rows,\n",
    "        'start': start\n",
    "    }\n",
    "\n",
    "    # Construct Solr URL for querying\n",
    "    search_url = f\"{url}/{core_name}/select\"\n",
    "    \n",
    "    # Make the request to Solr\n",
    "    response = requests.get(search_url, params=params)\n",
    "\n",
    "    if response.status_code == 200:\n",
    "        print(\"Successfully processed!\")\n",
    "        return response.json().get('response', {}).get('docs', [])\n",
    "    else:\n",
    "        print(\"Error in processing:\")\n",
    "        print(response.status_code)  # Print status code\n",
    "        print(response.text)          # Print response text\n",
    "        return []\n",
    "\n",
    "# Main code for basic search\n",
    "if __name__ == \"__main__\":\n",
    "    # Static query values\n",
    "    core_name = 'job_search'\n",
    "    solr_url = 'http://localhost:8983/solr'\n",
    "    \n",
    "    # Basic search query to retrieve all documents\n",
    "    user_query = \"*:*\"  # Match all documents\n",
    "    \n",
    "    # Perform the search\n",
    "    results = search(solr_url, core_name, user_query)\n",
    "\n",
    "    # Display results\n",
    "    if results:\n",
    "        print(\"Search Results:\")\n",
    "        for job in results:\n",
    "            print(job)\n",
    "    else:\n",
    "        print(\"No results found.\")\n"
   ]
  },
  {
   "cell_type": "code",
   "execution_count": null,
   "metadata": {},
   "outputs": [],
   "source": []
  },
  {
   "cell_type": "code",
   "execution_count": 37,
   "metadata": {},
   "outputs": [
    {
     "name": "stdout",
     "output_type": "stream",
     "text": [
      "Successfully processed!\n",
      "Search Results:\n",
      "{'id': '9', 'title': ['Product Owner'], 'description': ['Oversee the development of products from conception to launch. Collaborate with stakeholders to define product vision.'], 'type': ['remote'], 'location': ['Jaipur, Rajasthan'], 'date_posted': ['2024-10-09T00:00:00Z'], '_version_': 1814683829973024768}\n"
     ]
    }
   ],
   "source": [
    "import requests\n",
    "\n",
    "def search(url, core_name, user_query, job_type=None, location=None, sort_by=None, start=0, rows=10):\n",
    "    # Set up query parameters\n",
    "    params = {\n",
    "        'q': user_query,  # User-defined search query\n",
    "        'wt': 'json',\n",
    "        'rows': rows,\n",
    "        'start': start\n",
    "    }\n",
    "\n",
    "    # Set up filter queries\n",
    "    filters = []\n",
    "    \n",
    "    # Modify the filter for job type\n",
    "    if job_type:\n",
    "        filters.append(f'type:\"{job_type}\"')  # Use exact match for the array field\n",
    "\n",
    "    # Filter for location\n",
    "    if location:\n",
    "        filters.append(f'location:\"{location}\"')\n",
    "    \n",
    "    # Join filters with 'AND'\n",
    "    if filters:\n",
    "        params['fq'] = ' AND '.join(filters)\n",
    "    \n",
    "    if sort_by:\n",
    "        params['sort'] = sort_by\n",
    "\n",
    "    # Construct Solr URL for querying\n",
    "    search_url = f\"{url}/{core_name}/select\"\n",
    "    \n",
    "    # Make the request to Solr\n",
    "    response = requests.get(search_url, params=params)\n",
    "\n",
    "    if response.status_code == 200:\n",
    "        print(\"Successfully processed!\")\n",
    "        return response.json().get('response', {}).get('docs', [])\n",
    "    else:\n",
    "        print(\"Error in processing:\")\n",
    "        print(response.status_code)  # Print status code\n",
    "        print(response.text)          # Print response text\n",
    "        return []\n",
    "\n",
    "# Main code with static queries\n",
    "if __name__ == \"__main__\":\n",
    "    # Static query values\n",
    "    core_name = 'job_search'\n",
    "    solr_url = 'http://localhost:8983/solr'\n",
    "    \n",
    "    # Start with a broad search to verify data is present\n",
    "    user_query = \"*\"  # Match all documents to see what's in the index\n",
    "    job_type = \"remote\"   # Start with no job type filter\n",
    "    location = \"Jaipur\"    # Start with no location filter\n",
    "    sort_by = None     # No sorting for this initial check\n",
    "    \n",
    "    # Perform the search\n",
    "    results = search(solr_url, core_name, user_query, job_type, location, sort_by)\n",
    "\n",
    "    # Display results\n",
    "    if results:\n",
    "        print(\"Search Results:\")\n",
    "        for job in results:\n",
    "            print(job)\n",
    "    else:\n",
    "        print(\"No results found.\")\n",
    "\n",
    "    # After verifying data is present, you can replace user_query, job_type, and location as needed\n"
   ]
  },
  {
   "cell_type": "code",
   "execution_count": null,
   "metadata": {},
   "outputs": [],
   "source": []
  }
 ],
 "metadata": {
  "kernelspec": {
   "display_name": "Python 3",
   "language": "python",
   "name": "python3"
  },
  "language_info": {
   "codemirror_mode": {
    "name": "ipython",
    "version": 3
   },
   "file_extension": ".py",
   "mimetype": "text/x-python",
   "name": "python",
   "nbconvert_exporter": "python",
   "pygments_lexer": "ipython3",
   "version": "3.12.2"
  }
 },
 "nbformat": 4,
 "nbformat_minor": 2
}
